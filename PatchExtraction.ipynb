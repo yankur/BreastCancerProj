{
 "cells": [
  {
   "cell_type": "markdown",
   "metadata": {},
   "source": [
    "## Loading labels"
   ]
  },
  {
   "cell_type": "code",
   "execution_count": 2,
   "metadata": {},
   "outputs": [],
   "source": [
    "import pandas as pd"
   ]
  },
  {
   "cell_type": "code",
   "execution_count": 4,
   "metadata": {},
   "outputs": [],
   "source": [
    "labels = pd.read_csv('data/inBreast/INbreast_Release_1.0/labels.csv')"
   ]
  },
  {
   "cell_type": "code",
   "execution_count": 5,
   "metadata": {},
   "outputs": [
    {
     "data": {
      "text/html": [
       "<div>\n",
       "<style scoped>\n",
       "    .dataframe tbody tr th:only-of-type {\n",
       "        vertical-align: middle;\n",
       "    }\n",
       "\n",
       "    .dataframe tbody tr th {\n",
       "        vertical-align: top;\n",
       "    }\n",
       "\n",
       "    .dataframe thead th {\n",
       "        text-align: right;\n",
       "    }\n",
       "</style>\n",
       "<table border=\"1\" class=\"dataframe\">\n",
       "  <thead>\n",
       "    <tr style=\"text-align: right;\">\n",
       "      <th></th>\n",
       "      <th>Patient ID</th>\n",
       "      <th>Laterality</th>\n",
       "      <th>View</th>\n",
       "      <th>File Name</th>\n",
       "      <th>Mass</th>\n",
       "      <th>Micros</th>\n",
       "      <th>File ID</th>\n",
       "      <th>DICOM Path</th>\n",
       "      <th>Benign Calcification</th>\n",
       "      <th>Benign Mass</th>\n",
       "      <th>Malignant Calcification</th>\n",
       "      <th>Malignant Mass</th>\n",
       "      <th>Normal</th>\n",
       "      <th>PNG Path</th>\n",
       "      <th>Pect Rem</th>\n",
       "    </tr>\n",
       "  </thead>\n",
       "  <tbody>\n",
       "    <tr>\n",
       "      <th>0</th>\n",
       "      <td>61b13c59bcba149e</td>\n",
       "      <td>R</td>\n",
       "      <td>CC</td>\n",
       "      <td>22678622.0</td>\n",
       "      <td>NaN</td>\n",
       "      <td>NaN</td>\n",
       "      <td>22678622</td>\n",
       "      <td>data/inBreast/INbreast_Release_1.0/AllDICOMs/2...</td>\n",
       "      <td>0</td>\n",
       "      <td>0</td>\n",
       "      <td>0</td>\n",
       "      <td>0</td>\n",
       "      <td>1</td>\n",
       "      <td>data/inBreast/INbreast_Release_1.0/AllPNGs/226...</td>\n",
       "      <td>NaN</td>\n",
       "    </tr>\n",
       "    <tr>\n",
       "      <th>1</th>\n",
       "      <td>61b13c59bcba149e</td>\n",
       "      <td>L</td>\n",
       "      <td>CC</td>\n",
       "      <td>22678646.0</td>\n",
       "      <td>X</td>\n",
       "      <td>NaN</td>\n",
       "      <td>22678646</td>\n",
       "      <td>data/inBreast/INbreast_Release_1.0/AllDICOMs/2...</td>\n",
       "      <td>0</td>\n",
       "      <td>1</td>\n",
       "      <td>0</td>\n",
       "      <td>0</td>\n",
       "      <td>0</td>\n",
       "      <td>data/inBreast/INbreast_Release_1.0/AllPNGs/226...</td>\n",
       "      <td>NaN</td>\n",
       "    </tr>\n",
       "    <tr>\n",
       "      <th>2</th>\n",
       "      <td>61b13c59bcba149e</td>\n",
       "      <td>R</td>\n",
       "      <td>MLO</td>\n",
       "      <td>22678670.0</td>\n",
       "      <td>NaN</td>\n",
       "      <td>NaN</td>\n",
       "      <td>22678670</td>\n",
       "      <td>data/inBreast/INbreast_Release_1.0/AllDICOMs/2...</td>\n",
       "      <td>0</td>\n",
       "      <td>0</td>\n",
       "      <td>0</td>\n",
       "      <td>0</td>\n",
       "      <td>1</td>\n",
       "      <td>data/inBreast/INbreast_Release_1.0/AllPNGs/226...</td>\n",
       "      <td>data/inBreast/INbreast_Release_1.0/PectRem/226...</td>\n",
       "    </tr>\n",
       "    <tr>\n",
       "      <th>3</th>\n",
       "      <td>61b13c59bcba149e</td>\n",
       "      <td>L</td>\n",
       "      <td>MLO</td>\n",
       "      <td>22678694.0</td>\n",
       "      <td>X</td>\n",
       "      <td>NaN</td>\n",
       "      <td>22678694</td>\n",
       "      <td>data/inBreast/INbreast_Release_1.0/AllDICOMs/2...</td>\n",
       "      <td>0</td>\n",
       "      <td>1</td>\n",
       "      <td>0</td>\n",
       "      <td>0</td>\n",
       "      <td>0</td>\n",
       "      <td>data/inBreast/INbreast_Release_1.0/AllPNGs/226...</td>\n",
       "      <td>data/inBreast/INbreast_Release_1.0/PectRem/226...</td>\n",
       "    </tr>\n",
       "    <tr>\n",
       "      <th>4</th>\n",
       "      <td>6bd24a0a42c19ce1</td>\n",
       "      <td>R</td>\n",
       "      <td>CC</td>\n",
       "      <td>22614074.0</td>\n",
       "      <td>X</td>\n",
       "      <td>X</td>\n",
       "      <td>22614074</td>\n",
       "      <td>data/inBreast/INbreast_Release_1.0/AllDICOMs/2...</td>\n",
       "      <td>0</td>\n",
       "      <td>0</td>\n",
       "      <td>1</td>\n",
       "      <td>1</td>\n",
       "      <td>0</td>\n",
       "      <td>data/inBreast/INbreast_Release_1.0/AllPNGs/226...</td>\n",
       "      <td>NaN</td>\n",
       "    </tr>\n",
       "  </tbody>\n",
       "</table>\n",
       "</div>"
      ],
      "text/plain": [
       "         Patient ID Laterality View   File Name Mass  Micros   File ID  \\\n",
       "0  61b13c59bcba149e          R   CC  22678622.0   NaN    NaN  22678622   \n",
       "1  61b13c59bcba149e          L   CC  22678646.0     X    NaN  22678646   \n",
       "2  61b13c59bcba149e          R  MLO  22678670.0   NaN    NaN  22678670   \n",
       "3  61b13c59bcba149e          L  MLO  22678694.0     X    NaN  22678694   \n",
       "4  6bd24a0a42c19ce1          R   CC  22614074.0     X      X  22614074   \n",
       "\n",
       "                                          DICOM Path  Benign Calcification  \\\n",
       "0  data/inBreast/INbreast_Release_1.0/AllDICOMs/2...                     0   \n",
       "1  data/inBreast/INbreast_Release_1.0/AllDICOMs/2...                     0   \n",
       "2  data/inBreast/INbreast_Release_1.0/AllDICOMs/2...                     0   \n",
       "3  data/inBreast/INbreast_Release_1.0/AllDICOMs/2...                     0   \n",
       "4  data/inBreast/INbreast_Release_1.0/AllDICOMs/2...                     0   \n",
       "\n",
       "   Benign Mass  Malignant Calcification  Malignant Mass  Normal  \\\n",
       "0            0                        0               0       1   \n",
       "1            1                        0               0       0   \n",
       "2            0                        0               0       1   \n",
       "3            1                        0               0       0   \n",
       "4            0                        1               1       0   \n",
       "\n",
       "                                            PNG Path  \\\n",
       "0  data/inBreast/INbreast_Release_1.0/AllPNGs/226...   \n",
       "1  data/inBreast/INbreast_Release_1.0/AllPNGs/226...   \n",
       "2  data/inBreast/INbreast_Release_1.0/AllPNGs/226...   \n",
       "3  data/inBreast/INbreast_Release_1.0/AllPNGs/226...   \n",
       "4  data/inBreast/INbreast_Release_1.0/AllPNGs/226...   \n",
       "\n",
       "                                            Pect Rem  \n",
       "0                                                NaN  \n",
       "1                                                NaN  \n",
       "2  data/inBreast/INbreast_Release_1.0/PectRem/226...  \n",
       "3  data/inBreast/INbreast_Release_1.0/PectRem/226...  \n",
       "4                                                NaN  "
      ]
     },
     "execution_count": 5,
     "metadata": {},
     "output_type": "execute_result"
    }
   ],
   "source": [
    "labels.head()"
   ]
  },
  {
   "cell_type": "markdown",
   "metadata": {},
   "source": [
    "## Mask Extraction"
   ]
  },
  {
   "cell_type": "code",
   "execution_count": 1,
   "metadata": {},
   "outputs": [],
   "source": [
    "import xml.etree.ElementTree as ET\n",
    "import glob\n",
    "import pandas as pd\n",
    "import matplotlib.pyplot as plt\n",
    "from shapely.geometry import Polygon, Point, box"
   ]
  },
  {
   "cell_type": "code",
   "execution_count": 6,
   "metadata": {},
   "outputs": [],
   "source": [
    "def parse_xml(path):\n",
    "    dct = {}\n",
    "    ind = 0\n",
    "    tree = ET.parse(path)\n",
    "    root = tree.getroot()\n",
    "    array = root[0][1][0][-1]\n",
    "    \n",
    "    for entry in array:\n",
    "        dct[ind] = [None, None]\n",
    "        name = 0\n",
    "        pt = 0\n",
    "\n",
    "        for child in entry:\n",
    "            if name:\n",
    "                dct[ind][0] = child.text\n",
    "                name = 0\n",
    "            if child.text == 'Name':\n",
    "                name = 1\n",
    "            if pt:\n",
    "                dct[ind][1] = []\n",
    "\n",
    "                for stri in child:\n",
    "                    t = stri.text\n",
    "                    tup = (float(t[1:t.find(',')]), float(t[t.find(',')+2:-1]))\n",
    "                    dct[ind][1].append(tup)\n",
    "                pt = 0\n",
    "            if child.text == 'Point_px':\n",
    "                pt = 1\n",
    "        ind += 1\n",
    "        \n",
    "    return dct"
   ]
  },
  {
   "cell_type": "code",
   "execution_count": 7,
   "metadata": {},
   "outputs": [],
   "source": [
    "xml_dir_path = 'data/inBreast/INbreast_Release_1.0/AllXML/'\n",
    "rois_pathes = glob.glob(str(xml_dir_path + '*.xml'))"
   ]
  },
  {
   "cell_type": "code",
   "execution_count": 8,
   "metadata": {},
   "outputs": [],
   "source": [
    "rois = pd.DataFrame()\n",
    "ids = []\n",
    "for p in rois_pathes:\n",
    "    ids.append(p[p.rfind('/')+1:-4])\n",
    "rois['ID'] = ids"
   ]
  },
  {
   "cell_type": "code",
   "execution_count": 9,
   "metadata": {},
   "outputs": [],
   "source": [
    "regs = []\n",
    "for p in rois_pathes:\n",
    "    regs.append(parse_xml(p))\n",
    "rois['pts'] = regs"
   ]
  },
  {
   "cell_type": "code",
   "execution_count": 10,
   "metadata": {},
   "outputs": [
    {
     "data": {
      "text/html": [
       "<div>\n",
       "<style scoped>\n",
       "    .dataframe tbody tr th:only-of-type {\n",
       "        vertical-align: middle;\n",
       "    }\n",
       "\n",
       "    .dataframe tbody tr th {\n",
       "        vertical-align: top;\n",
       "    }\n",
       "\n",
       "    .dataframe thead th {\n",
       "        text-align: right;\n",
       "    }\n",
       "</style>\n",
       "<table border=\"1\" class=\"dataframe\">\n",
       "  <thead>\n",
       "    <tr style=\"text-align: right;\">\n",
       "      <th></th>\n",
       "      <th>ID</th>\n",
       "      <th>pts</th>\n",
       "    </tr>\n",
       "  </thead>\n",
       "  <tbody>\n",
       "    <tr>\n",
       "      <th>0</th>\n",
       "      <td>50997651</td>\n",
       "      <td>{0: ['Calcification', [(1457.380005, 1854.5899...</td>\n",
       "    </tr>\n",
       "    <tr>\n",
       "      <th>1</th>\n",
       "      <td>50999459</td>\n",
       "      <td>{0: ['Mass', [(967.768982, 1645.619995), (959....</td>\n",
       "    </tr>\n",
       "    <tr>\n",
       "      <th>2</th>\n",
       "      <td>53580638</td>\n",
       "      <td>{0: ['Calcification', [(2731.810059, 3544.9699...</td>\n",
       "    </tr>\n",
       "    <tr>\n",
       "      <th>3</th>\n",
       "      <td>24065434</td>\n",
       "      <td>{0: ['Calcification', [(1038.650024, 3287.0300...</td>\n",
       "    </tr>\n",
       "    <tr>\n",
       "      <th>4</th>\n",
       "      <td>51049462</td>\n",
       "      <td>{0: ['Calcification', [(1311.119995, 2360.8798...</td>\n",
       "    </tr>\n",
       "    <tr>\n",
       "      <th>...</th>\n",
       "      <td>...</td>\n",
       "      <td>...</td>\n",
       "    </tr>\n",
       "    <tr>\n",
       "      <th>338</th>\n",
       "      <td>50996228</td>\n",
       "      <td>{0: ['Calcification', [(162.764008, 2747.28002...</td>\n",
       "    </tr>\n",
       "    <tr>\n",
       "      <th>339</th>\n",
       "      <td>22427705</td>\n",
       "      <td>{0: ['Calcification', [(306.131958, 1878.98742...</td>\n",
       "    </tr>\n",
       "    <tr>\n",
       "      <th>340</th>\n",
       "      <td>24065734</td>\n",
       "      <td>{0: ['Calcification', [(1020.109985, 2109.6201...</td>\n",
       "    </tr>\n",
       "    <tr>\n",
       "      <th>341</th>\n",
       "      <td>53587131</td>\n",
       "      <td>{0: ['Calcification', [(805.182007, 2901.18994...</td>\n",
       "    </tr>\n",
       "    <tr>\n",
       "      <th>342</th>\n",
       "      <td>51049682</td>\n",
       "      <td>{0: ['Calcification', [(818.13501, 2028.969971...</td>\n",
       "    </tr>\n",
       "  </tbody>\n",
       "</table>\n",
       "<p>343 rows × 2 columns</p>\n",
       "</div>"
      ],
      "text/plain": [
       "           ID                                                pts\n",
       "0    50997651  {0: ['Calcification', [(1457.380005, 1854.5899...\n",
       "1    50999459  {0: ['Mass', [(967.768982, 1645.619995), (959....\n",
       "2    53580638  {0: ['Calcification', [(2731.810059, 3544.9699...\n",
       "3    24065434  {0: ['Calcification', [(1038.650024, 3287.0300...\n",
       "4    51049462  {0: ['Calcification', [(1311.119995, 2360.8798...\n",
       "..        ...                                                ...\n",
       "338  50996228  {0: ['Calcification', [(162.764008, 2747.28002...\n",
       "339  22427705  {0: ['Calcification', [(306.131958, 1878.98742...\n",
       "340  24065734  {0: ['Calcification', [(1020.109985, 2109.6201...\n",
       "341  53587131  {0: ['Calcification', [(805.182007, 2901.18994...\n",
       "342  51049682  {0: ['Calcification', [(818.13501, 2028.969971...\n",
       "\n",
       "[343 rows x 2 columns]"
      ]
     },
     "execution_count": 10,
     "metadata": {},
     "output_type": "execute_result"
    }
   ],
   "source": [
    "rois"
   ]
  },
  {
   "cell_type": "markdown",
   "metadata": {},
   "source": [
    "## Image rotation"
   ]
  },
  {
   "cell_type": "code",
   "execution_count": 13,
   "metadata": {},
   "outputs": [],
   "source": [
    "from skimage import io\n",
    "from skimage import color\n",
    "import cv2 as cv"
   ]
  },
  {
   "cell_type": "code",
   "execution_count": 11,
   "metadata": {},
   "outputs": [],
   "source": [
    "def read_image(filename):\n",
    "    image = io.imread(filename)\n",
    "    image = color.rgb2gray(image)\n",
    "    image = right_orient_mammogram(image)\n",
    "    return image"
   ]
  },
  {
   "cell_type": "code",
   "execution_count": 12,
   "metadata": {},
   "outputs": [],
   "source": [
    "def right_orient_mammogram(image):\n",
    "#     print('in right_orient')\n",
    "    left_nonzero = cv.countNonZero(image[:, 0:int(image.shape[1]/2)])\n",
    "    right_nonzero = cv.countNonZero(image[:, int(image.shape[1]/2):])\n",
    "    \n",
    "    if(left_nonzero < right_nonzero):\n",
    "#         print('flip')\n",
    "        image = cv.flip(image, 1)\n",
    "\n",
    "    return image"
   ]
  },
  {
   "cell_type": "markdown",
   "metadata": {},
   "source": [
    "## Patch extraction"
   ]
  },
  {
   "cell_type": "code",
   "execution_count": 37,
   "metadata": {},
   "outputs": [],
   "source": [
    "import numpy as np\n",
    "from tqdm import tqdm\n",
    "import matplotlib"
   ]
  },
  {
   "cell_type": "code",
   "execution_count": 14,
   "metadata": {},
   "outputs": [],
   "source": [
    "def sliding_window(image, stepSize, windowSize):\n",
    "    windows = []\n",
    "    for y in range(0, image.shape[0], stepSize):\n",
    "        for x in range(0, image.shape[1], stepSize):\n",
    "            windows.append((x, y, image[y:y + windowSize[1], x:x + windowSize[0]]))\n",
    "    return windows"
   ]
  },
  {
   "cell_type": "code",
   "execution_count": 15,
   "metadata": {},
   "outputs": [],
   "source": [
    "def filter_patches(patches):\n",
    "    filtered = []\n",
    "    threshold = 0.02\n",
    "    \n",
    "    x = 256\n",
    "    y = 256\n",
    "    \n",
    "    for p in patches:\n",
    "        if (1 - (np.count_nonzero(p[2])/(x*y)) < threshold):\n",
    "            filtered.append(p)\n",
    "            \n",
    "    return filtered"
   ]
  },
  {
   "cell_type": "code",
   "execution_count": 118,
   "metadata": {},
   "outputs": [],
   "source": [
    "def filter_mass_patches(patches, mass_polys):\n",
    "    treshold = 0.25\n",
    "    filtered = {'mass': [], 'norm': []}\n",
    "    for mass in mass_polys:\n",
    "        for p in patches:\n",
    "            patch_poly = box(p[0], p[1], p[0] + 255, p[1] + 255)\n",
    "            intersection = patch_poly.intersection(mass).area\n",
    "            if intersection > 0 and 0.9 >= intersection/(256*256) >=  treshold:\n",
    "                if p not in filtered['mass']:\n",
    "                    filtered['mass'].append(p)                \n",
    "            elif intersection == 0:\n",
    "                if p not in filtered['norm']:\n",
    "                    filtered['norm'].append(p)\n",
    "    return filtered"
   ]
  },
  {
   "cell_type": "code",
   "execution_count": 119,
   "metadata": {},
   "outputs": [],
   "source": [
    "def filter_calc_patches(patches, calc_polys):\n",
    "    calc_polys = [_ for _ in calc_polys if _]\n",
    "    if not len(calc_polys):\n",
    "        return {'calc': [], 'norm': []}\n",
    "    filtered = {'calc': [], 'norm': []}\n",
    "    for calc in calc_polys:\n",
    "        for p in patches:\n",
    "            patch_poly = box(p[0] + 25, p[1] + 25, p[0] + 220, p[1] + 220)\n",
    "            if patch_poly.contains(calc):\n",
    "                if p in filtered['norm']:\n",
    "                    filtered['norm'].remove(p)\n",
    "                if p not in filtered['calc']:\n",
    "                    filtered['calc'].append(p)\n",
    "            elif patch_poly.intersects(calc):\n",
    "                if p in filtered['norm']:\n",
    "                    filtered['norm'].remove(p)\n",
    "                continue\n",
    "            else:\n",
    "                 if p not in filtered['norm']:\n",
    "                    filtered['norm'].append(p)\n",
    "    return filtered"
   ]
  },
  {
   "cell_type": "code",
   "execution_count": 38,
   "metadata": {},
   "outputs": [],
   "source": [
    "def extract_healthy(row):\n",
    "    patches_dir = 'data/inBreast/INbreast_Release_1.0/PatchesByClass/1/'\n",
    "\n",
    "    if row['View'] == 'CC':\n",
    "        png_path = row['PNG Path']\n",
    "    elif row['Pect Rem']:\n",
    "        png_path = row['Pect Rem']\n",
    "    else:\n",
    "        print(row['PNG Path'])\n",
    "        return   \n",
    "\n",
    "    patches_dir += str(row['File ID'])[:-4]\n",
    "\n",
    "    count = 0 \n",
    "    names = []\n",
    "\n",
    "    image = read_image(png_path)\n",
    "    patches = sliding_window(image, 128, (256, 256))\n",
    "\n",
    "    filtered_patches = filter_patches(patches)\n",
    "\n",
    "    x_start = [p[0] for p in filtered_patches]\n",
    "    y_start = [p[1] for p in filtered_patches]\n",
    "    arr = [p[2] for p in filtered_patches]   \n",
    "\n",
    "\n",
    "    for im in arr:\n",
    "        name = patches_dir + '-' + str(count) + '.png'\n",
    "        names.append(name)\n",
    "        count += 1\n",
    "        matplotlib.image.imsave(name, im, cmap='gray')\n",
    "    \n",
    "    return names"
   ]
  },
  {
   "cell_type": "code",
   "execution_count": 126,
   "metadata": {},
   "outputs": [],
   "source": [
    "def extract_abn(row, rois):\n",
    "    patches_dir = 'data/inBreast/INbreast_Release_1.0/PatchesByClass/'\n",
    "\n",
    "    if row['View'] == 'CC':\n",
    "        png_path = row['PNG Path']\n",
    "    elif row['Pect Rem']:\n",
    "        png_path = row['Pect Rem']\n",
    "    else:\n",
    "        print(row['PNG Path'])\n",
    "        return\n",
    "    \n",
    "    image = read_image(png_path)\n",
    "\n",
    "    patches = sliding_window(image, 128, (256, 256))\n",
    "\n",
    "    file_ID = row['File ID']                \n",
    "            \n",
    "    abn_mass = [Polygon(pts[1]) for pts in rois.loc[rois['ID'] == str(file_ID)]['pts'].tolist()[0].values() if pts[0] == 'Mass']\n",
    "    abn_calc = [Polygon(pts[1]) if (pts[0] == 'Calcification' and len(pts[1]) > 1) \n",
    "                else Point(pts[1]) if (pts[0] == 'Calcification' and len(pts[1]) == 1) else None \n",
    "                for pts in rois.loc[rois['ID'] == str(file_ID)]['pts'].tolist()[0].values()]\n",
    "\n",
    "    mass_patches = []\n",
    "    for mass in abn_mass:\n",
    "        if not mass:\n",
    "            break\n",
    "\n",
    "        x = int(mass.centroid.coords[0][0])\n",
    "        y = int(mass.centroid.coords[0][1])\n",
    "\n",
    "        if x > 256:\n",
    "            x -= 256\n",
    "        else:\n",
    "            x = 0\n",
    "        if y > 256:\n",
    "            y -= 256\n",
    "        else:\n",
    "            y = 0\n",
    "        wsize = 256\n",
    "\n",
    "        mass_patches.append((x, y, image[y:y + wsize, x:x + wsize]))\n",
    "        mass_patches.append((x+256, y, image[y:y + wsize, x:x + wsize]))\n",
    "        mass_patches.append((x, y+256, image[y:y + wsize, x:x + wsize]))\n",
    "        mass_patches.append((x+256, y+256, image[y:y + wsize, x:x + wsize]))\n",
    "        mass_patches.append((x+128, y+128, image[y:y + wsize, x:x + wsize]))\n",
    "\n",
    "    calc_patches = []\n",
    "    for calc in abn_calc:\n",
    "        if not calc:\n",
    "            break            \n",
    "        x = int(calc.centroid.coords[0][0])\n",
    "        y = int(calc.centroid.coords[0][1])\n",
    "\n",
    "        if x > 128:\n",
    "            x -= 128\n",
    "        else:\n",
    "            x = 0\n",
    "        if y > 128:\n",
    "            y -= 128\n",
    "        else:\n",
    "            y = 0\n",
    "\n",
    "        wsize = 256\n",
    "        calc_patches.append((x, y, image[y:y + wsize, x:x + wsize]))\n",
    "\n",
    "    patches = filter_patches(patches)\n",
    "    mass_patches = filter_patches(mass_patches)\n",
    "    calc_patches = filter_patches(calc_patches)\n",
    "\n",
    "\n",
    "    filtered_mass_patches = filter_mass_patches(patches, abn_mass)\n",
    "    filtered_mass_patches['mass'].extend(filter_mass_patches(mass_patches, abn_mass)['mass'])\n",
    "\n",
    "    filtered_calc_patches = filter_calc_patches(patches, abn_calc)\n",
    "    filtered_calc_patches['calc'].extend(calc_patches)\n",
    "\n",
    "    filtered_patches = {'mass': filtered_mass_patches['mass'], 'calc': filtered_calc_patches['calc'], \n",
    "                        'norm': filtered_mass_patches['norm']}\n",
    "\n",
    "    for p in filtered_calc_patches['norm']:\n",
    "        if p not in filtered_patches['norm']:\n",
    "            filtered_patches['norm'].append(p)\n",
    "\n",
    "    for p in filtered_patches['mass']:\n",
    "        if p in filtered_patches['calc']:\n",
    "            filtered_patches['mass'].remove(p)\n",
    "            filtered_patches['calc'].remove(p)\n",
    "            \n",
    "    names = []\n",
    "\n",
    "    if len(filtered_patches['mass']) > 0:\n",
    "        if row['Benign Mass'] == 1:\n",
    "            path = patches_dir + '2/' + str(row['File ID'])\n",
    "        else:\n",
    "            path = patches_dir + '4/' + str(row['File ID'])\n",
    "        count = 0 \n",
    "        for p in filtered_patches['mass']:\n",
    "            name = path + '-' + str(count) + '.png'\n",
    "            names.append(name)\n",
    "            count += 1\n",
    "            matplotlib.image.imsave(name, p[2], cmap='gray')\n",
    "\n",
    "    if len(filtered_patches['calc']) > 0:\n",
    "        if row['Benign Calcification'] == 1:\n",
    "            path = patches_dir + '3/' + str(row['File ID'])\n",
    "        else:\n",
    "            path = patches_dir + '5/' + str(row['File ID'])\n",
    "        count = 0 \n",
    "        for p in filtered_patches['calc']:\n",
    "            name = path + '-' + str(count) + '.png'\n",
    "            names.append(name)\n",
    "            count += 1\n",
    "            matplotlib.image.imsave(name, p[2], cmap='gray')\n",
    "\n",
    "    return names"
   ]
  },
  {
   "cell_type": "code",
   "execution_count": 39,
   "metadata": {},
   "outputs": [
    {
     "name": "stderr",
     "output_type": "stream",
     "text": [
      "  0%|          | 0/65 [00:00<?, ?it/s]<ipython-input-11-36f484922f9f>:3: FutureWarning: Non RGB image conversion is now deprecated. For RGBA images, please use rgb2gray(rgba2rgb(rgb)) instead. In version 0.19, a ValueError will be raised if input image last dimension length is not 3.\n",
      "  image = color.rgb2gray(image)\n",
      "100%|██████████| 65/65 [04:25<00:00,  4.08s/it]\n"
     ]
    }
   ],
   "source": [
    "healthy = labels.loc[labels['Normal'] == 1]\n",
    "ind = healthy.index.tolist()\n",
    "\n",
    "healthy_names = []\n",
    "for i in tqdm(ind):\n",
    "    healthy_names = extract_healthy(labels.iloc[i])"
   ]
  },
  {
   "cell_type": "code",
   "execution_count": 125,
   "metadata": {},
   "outputs": [
    {
     "name": "stderr",
     "output_type": "stream",
     "text": [
      "  0%|          | 0/21 [00:00<?, ?it/s]<ipython-input-11-36f484922f9f>:3: FutureWarning: Non RGB image conversion is now deprecated. For RGBA images, please use rgb2gray(rgba2rgb(rgb)) instead. In version 0.19, a ValueError will be raised if input image last dimension length is not 3.\n",
      "  image = color.rgb2gray(image)\n",
      "100%|██████████| 21/21 [00:29<00:00,  1.41s/it]\n"
     ]
    }
   ],
   "source": [
    "abnormal = labels.loc[labels['Normal'] != 1]\n",
    "ind = abnormal.index.tolist()\n",
    "\n",
    "abnormal_names = []\n",
    "for i in tqdm(ind[314:]):\n",
    "    abnormal_names.append(extract_abn(labels.iloc[i], rois))"
   ]
  },
  {
   "cell_type": "code",
   "execution_count": null,
   "metadata": {},
   "outputs": [],
   "source": [
    "283, 313"
   ]
  },
  {
   "cell_type": "markdown",
   "metadata": {},
   "source": [
    "## Visualization"
   ]
  },
  {
   "cell_type": "code",
   "execution_count": 14,
   "metadata": {},
   "outputs": [],
   "source": [
    "import os\n",
    "import random\n",
    "import matplotlib.pyplot as plt\n",
    "import cv2"
   ]
  },
  {
   "cell_type": "code",
   "execution_count": 9,
   "metadata": {},
   "outputs": [],
   "source": [
    "dir = 'data/inBreast/INbreast_Release_1.0/PatchesByClass/'\n",
    "cl = 1"
   ]
  },
  {
   "cell_type": "code",
   "execution_count": 10,
   "metadata": {},
   "outputs": [
    {
     "name": "stdout",
     "output_type": "stream",
     "text": [
      "2267-61.png\n"
     ]
    }
   ],
   "source": [
    "fname = random.choice(os.listdir(str(dir + str(cl))))\n",
    "print(fname)"
   ]
  },
  {
   "cell_type": "code",
   "execution_count": 13,
   "metadata": {},
   "outputs": [
    {
     "name": "stdout",
     "output_type": "stream",
     "text": [
      "1\n",
      "2\n",
      "3\n",
      "4\n"
     ]
    }
   ],
   "source": [
    "for i in range(1, 5):\n",
    "    print(i)"
   ]
  },
  {
   "cell_type": "code",
   "execution_count": 20,
   "metadata": {},
   "outputs": [
    {
     "data": {
      "image/png": "[encoded data removed]",
      "text/plain": [
       "<Figure size 432x288 with 15 Axes>"
      ]
     },
     "metadata": {
      "needs_background": "light"
     },
     "output_type": "display_data"
    },
    {
     "data": {
      "text/plain": [
       "<Figure size 360x1080 with 0 Axes>"
      ]
     },
     "metadata": {},
     "output_type": "display_data"
    }
   ],
   "source": [
    "fig, axs = plt.subplots(5, 3)\n",
    "plt.figure(figsize = (5, 15))\n",
    "for cl in range(1, 6):\n",
    "    for i in range(3):\n",
    "        path = str(dir + str(cl))\n",
    "        fname = random.choice(os.listdir(path))\n",
    "        path += '/' + fname\n",
    "        img = cv2.imread(path)\n",
    "        axs[cl-1, i].imshow(img)"
   ]
  },
  {
   "cell_type": "code",
   "execution_count": null,
   "metadata": {},
   "outputs": [],
   "source": []
  }
 ],
 "metadata": {
  "kernelspec": {
   "display_name": "Python 3",
   "language": "python",
   "name": "python3"
  },
  "language_info": {
   "codemirror_mode": {
    "name": "ipython",
    "version": 3
   },
   "file_extension": ".py",
   "mimetype": "text/x-python",
   "name": "python",
   "nbconvert_exporter": "python",
   "pygments_lexer": "ipython3",
   "version": "3.8.5"
  }
 },
 "nbformat": 4,
 "nbformat_minor": 4
}
